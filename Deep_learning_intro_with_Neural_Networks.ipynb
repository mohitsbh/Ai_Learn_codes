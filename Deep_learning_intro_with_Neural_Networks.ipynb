{
  "nbformat": 4,
  "nbformat_minor": 0,
  "metadata": {
    "colab": {
      "provenance": [],
      "authorship_tag": "ABX9TyOJFXGA4/FFEMSk9ghl4Wn3",
      "include_colab_link": true
    },
    "kernelspec": {
      "name": "python3",
      "display_name": "Python 3"
    },
    "language_info": {
      "name": "python"
    }
  },
  "cells": [
    {
      "cell_type": "markdown",
      "metadata": {
        "id": "view-in-github",
        "colab_type": "text"
      },
      "source": [
        "<a href=\"https://colab.research.google.com/github/mohitsbh/Ai_Learn_codes/blob/main/Deep_learning_intro_with_Neural_Networks.ipynb\" target=\"_parent\"><img src=\"https://colab.research.google.com/assets/colab-badge.svg\" alt=\"Open In Colab\"/></a>"
      ]
    },
    {
      "cell_type": "code",
      "source": [
        "from tensorflow.keras.datasets import mnist,cifar10\n",
        "(X_train_mnist,y_train_mnist),(X_test_mnist,y_test_mnist)=mnist.load_data()\n",
        "(X_train_cifar,y_train_cifar),(X_test_cifar,y_test_cifar)=cifar10.load_data()\n",
        "print(\"Mnist Dataset:\",X_train_mnist.shape,\"Test:\",X_test_mnist.shape)\n",
        "print(\"Cigar 10 Dataset:\",X_train_cifar.shape,\"Test:\",X_test_cifar.shape)"
      ],
      "metadata": {
        "colab": {
          "base_uri": "https://localhost:8080/"
        },
        "id": "Wa47b3cuA3fW",
        "outputId": "e8f9300f-d251-4e1f-b728-c3f1d4d55989"
      },
      "execution_count": 22,
      "outputs": [
        {
          "output_type": "stream",
          "name": "stdout",
          "text": [
            "Mnist Dataset: (60000, 28, 28) Test: (10000, 28, 28)\n",
            "Cigar 10 Dataset: (50000, 32, 32, 3) Test: (10000, 32, 32, 3)\n"
          ]
        }
      ]
    }
  ]
}