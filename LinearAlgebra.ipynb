{
  "nbformat": 4,
  "nbformat_minor": 0,
  "metadata": {
    "colab": {
      "provenance": [],
      "authorship_tag": "ABX9TyMWQQQ9dHds2oMR5EBYqbRl",
      "include_colab_link": true
    },
    "kernelspec": {
      "name": "python3",
      "display_name": "Python 3"
    },
    "language_info": {
      "name": "python"
    }
  },
  "cells": [
    {
      "cell_type": "markdown",
      "metadata": {
        "id": "view-in-github",
        "colab_type": "text"
      },
      "source": [
        "<a href=\"https://colab.research.google.com/github/mohitsbh/Ai_Learn_codes/blob/main/LinearAlgebra.ipynb\" target=\"_parent\"><img src=\"https://colab.research.google.com/assets/colab-badge.svg\" alt=\"Open In Colab\"/></a>"
      ]
    },
    {
      "cell_type": "code",
      "execution_count": null,
      "metadata": {
        "colab": {
          "base_uri": "https://localhost:8080/"
        },
        "id": "ostNdjWV7F70",
        "outputId": "e5d33c9e-5218-4b2b-a702-77023ccdfc23"
      },
      "outputs": [
        {
          "output_type": "stream",
          "name": "stdout",
          "text": [
            "Addition of two Arrays A and B: \n",
            " [[ 3  5  8]\n",
            " [ 3  7 12]]\n"
          ]
        }
      ],
      "source": [
        "import numpy as np\n",
        "\n",
        "A=np.array([[2,3,5],[1,4,6]])\n",
        "B=np.array([[1,2,3],[2,3,6]])\n",
        "\n",
        "print(\"Addition of two Arrays A and B: \\n\",A+B)"
      ]
    },
    {
      "cell_type": "code",
      "source": [],
      "metadata": {
        "id": "AVz3Is19dlOe"
      },
      "execution_count": null,
      "outputs": []
    },
    {
      "cell_type": "code",
      "source": [
        "print(\"Subtraction of two Arrays A and B: \\n\",A-B)"
      ],
      "metadata": {
        "colab": {
          "base_uri": "https://localhost:8080/"
        },
        "id": "vUvmZWcz8eSg",
        "outputId": "2b77897e-09ff-40dd-8c06-cf95288e6229"
      },
      "execution_count": null,
      "outputs": [
        {
          "output_type": "stream",
          "name": "stdout",
          "text": [
            "Subtraction of two Arrays A and B: \n",
            " [[ 1  1  2]\n",
            " [-1  1  0]]\n"
          ]
        }
      ]
    },
    {
      "cell_type": "code",
      "source": [
        "C=2*A\n",
        "print(\"Scalar Multiplication of Array A: \\n\",C)"
      ],
      "metadata": {
        "colab": {
          "base_uri": "https://localhost:8080/"
        },
        "id": "mhlhadIj8rGD",
        "outputId": "1ca02a88-e085-40c0-ea8b-ab3c81e4547f"
      },
      "execution_count": null,
      "outputs": [
        {
          "output_type": "stream",
          "name": "stdout",
          "text": [
            "Scalar Multiplication of Array A: \n",
            " [[2 4]\n",
            " [6 8]]\n"
          ]
        }
      ]
    },
    {
      "cell_type": "code",
      "source": [
        "result=np.dot(A, B)\n",
        "print(\"Multiplication of two Arrays A and B:\\n\", result)"
      ],
      "metadata": {
        "colab": {
          "base_uri": "https://localhost:8080/"
        },
        "id": "cQhlRUQ_9MwZ",
        "outputId": "77e4d63e-6ee1-46d8-b11f-7a7414b5158d"
      },
      "execution_count": null,
      "outputs": [
        {
          "output_type": "stream",
          "name": "stdout",
          "text": [
            "Multiplication of two Arrays A and B:\n",
            " [[19 22]\n",
            " [43 50]]\n"
          ]
        }
      ]
    },
    {
      "cell_type": "code",
      "source": [
        "D=np.eye(4)\n",
        "D"
      ],
      "metadata": {
        "colab": {
          "base_uri": "https://localhost:8080/"
        },
        "id": "UuAmflN1_AN_",
        "outputId": "d17702f2-c559-4ccf-c09f-47819a7d87b0"
      },
      "execution_count": null,
      "outputs": [
        {
          "output_type": "execute_result",
          "data": {
            "text/plain": [
              "array([[1., 0., 0., 0.],\n",
              "       [0., 1., 0., 0.],\n",
              "       [0., 0., 1., 0.],\n",
              "       [0., 0., 0., 1.]])"
            ]
          },
          "metadata": {},
          "execution_count": 29
        }
      ]
    },
    {
      "cell_type": "code",
      "source": [
        "Z=np.zeros((2,6))\n",
        "Z"
      ],
      "metadata": {
        "colab": {
          "base_uri": "https://localhost:8080/"
        },
        "id": "Tz_zUuT1_f4u",
        "outputId": "613cdd6e-83ae-4eee-a76b-0c9ff6233b91"
      },
      "execution_count": null,
      "outputs": [
        {
          "output_type": "execute_result",
          "data": {
            "text/plain": [
              "array([[0., 0., 0., 0., 0., 0.],\n",
              "       [0., 0., 0., 0., 0., 0.]])"
            ]
          },
          "metadata": {},
          "execution_count": 38
        }
      ]
    },
    {
      "cell_type": "code",
      "source": [
        "D=np.diag([2,3,4])\n",
        "D"
      ],
      "metadata": {
        "colab": {
          "base_uri": "https://localhost:8080/"
        },
        "id": "5ajMWKKmATmK",
        "outputId": "d6871542-4936-440c-a82a-73737781dac9"
      },
      "execution_count": null,
      "outputs": [
        {
          "output_type": "execute_result",
          "data": {
            "text/plain": [
              "array([[2, 0, 0],\n",
              "       [0, 3, 0],\n",
              "       [0, 0, 4]])"
            ]
          },
          "metadata": {},
          "execution_count": 40
        }
      ]
    },
    {
      "cell_type": "code",
      "source": [
        "import numpy as np\n",
        "Array=([[2,3],[1,4]])\n",
        "Determinant=np.linalg.det(Array)\n",
        "Determinant"
      ],
      "metadata": {
        "colab": {
          "base_uri": "https://localhost:8080/"
        },
        "id": "g5sSIlrmejmL",
        "outputId": "ba2ed4db-b6e5-47c9-dfa4-6f93a1aa5076"
      },
      "execution_count": null,
      "outputs": [
        {
          "output_type": "execute_result",
          "data": {
            "text/plain": [
              "np.float64(5.000000000000001)"
            ]
          },
          "metadata": {},
          "execution_count": 10
        }
      ]
    },
    {
      "cell_type": "code",
      "source": [
        "np.linalg.inv(Array)"
      ],
      "metadata": {
        "colab": {
          "base_uri": "https://localhost:8080/"
        },
        "id": "Azm7CzYUmeO1",
        "outputId": "295ab2c5-9e1c-4a36-8192-8e5f42ad10a3"
      },
      "execution_count": null,
      "outputs": [
        {
          "output_type": "execute_result",
          "data": {
            "text/plain": [
              "array([[ 0.8, -0.6],\n",
              "       [-0.2,  0.4]])"
            ]
          },
          "metadata": {},
          "execution_count": 4
        }
      ]
    },
    {
      "cell_type": "code",
      "source": [
        "Eigval,Eigvect=np.linalg.eig(Array)\n",
        "Eigval"
      ],
      "metadata": {
        "colab": {
          "base_uri": "https://localhost:8080/"
        },
        "id": "JpEHXFwkpOnt",
        "outputId": "e9d17f55-a801-4569-d995-4d5aeefa6580"
      },
      "execution_count": null,
      "outputs": [
        {
          "output_type": "execute_result",
          "data": {
            "text/plain": [
              "array([1., 5.])"
            ]
          },
          "metadata": {},
          "execution_count": 8
        }
      ]
    },
    {
      "cell_type": "code",
      "source": [
        "Eigvect"
      ],
      "metadata": {
        "colab": {
          "base_uri": "https://localhost:8080/"
        },
        "id": "BhOdQhVlptxl",
        "outputId": "1951d2f6-f641-4d1c-8ed3-ada1dea926fe"
      },
      "execution_count": null,
      "outputs": [
        {
          "output_type": "execute_result",
          "data": {
            "text/plain": [
              "array([[-0.9486833 , -0.70710678],\n",
              "       [ 0.31622777, -0.70710678]])"
            ]
          },
          "metadata": {},
          "execution_count": 9
        }
      ]
    },
    {
      "cell_type": "code",
      "source": [
        "U,E,Vt=np.linalg.svd(Array)\n",
        "U"
      ],
      "metadata": {
        "colab": {
          "base_uri": "https://localhost:8080/"
        },
        "id": "wk7jCJrYq2yO",
        "outputId": "8910b38b-e969-47c0-d483-552350bcf2ed"
      },
      "execution_count": null,
      "outputs": [
        {
          "output_type": "execute_result",
          "data": {
            "text/plain": [
              "array([[-0.65520174, -0.75545395],\n",
              "       [-0.75545395,  0.65520174]])"
            ]
          },
          "metadata": {},
          "execution_count": 11
        }
      ]
    },
    {
      "cell_type": "code",
      "source": [
        "E"
      ],
      "metadata": {
        "colab": {
          "base_uri": "https://localhost:8080/"
        },
        "id": "Ohjtk6iBrBkR",
        "outputId": "4799eebf-380f-4299-b06b-f932a08dbd10"
      },
      "execution_count": null,
      "outputs": [
        {
          "output_type": "execute_result",
          "data": {
            "text/plain": [
              "array([5.39834564, 0.92620968])"
            ]
          },
          "metadata": {},
          "execution_count": 12
        }
      ]
    },
    {
      "cell_type": "code",
      "source": [
        "Vt"
      ],
      "metadata": {
        "colab": {
          "base_uri": "https://localhost:8080/"
        },
        "id": "oGzT2errrC4b",
        "outputId": "54be067e-b46a-46b0-9281-d5b83301e76b"
      },
      "execution_count": null,
      "outputs": [
        {
          "output_type": "execute_result",
          "data": {
            "text/plain": [
              "array([[-0.38268343, -0.92387953],\n",
              "       [-0.92387953,  0.38268343]])"
            ]
          },
          "metadata": {},
          "execution_count": 13
        }
      ]
    },
    {
      "cell_type": "code",
      "source": [
        "import numpy as np\n",
        "A=np.array([[2,6],[3,5]])\n",
        "A"
      ],
      "metadata": {
        "colab": {
          "base_uri": "https://localhost:8080/"
        },
        "id": "Vlt8Ic2xsI9b",
        "outputId": "f193de81-9d1a-4742-d8bc-ee104d1c23f5"
      },
      "execution_count": null,
      "outputs": [
        {
          "output_type": "execute_result",
          "data": {
            "text/plain": [
              "array([[2, 6],\n",
              "       [3, 5]])"
            ]
          },
          "metadata": {},
          "execution_count": 14
        }
      ]
    },
    {
      "cell_type": "code",
      "source": [
        "Determinant_A= np.linalg.det(A)\n",
        "print(\"Determinant Of A is :\\n\",Determinant_A)"
      ],
      "metadata": {
        "colab": {
          "base_uri": "https://localhost:8080/"
        },
        "id": "Pj5hp-FzsZZw",
        "outputId": "34d5212b-6fc4-44aa-89a6-aa86a835b640"
      },
      "execution_count": null,
      "outputs": [
        {
          "output_type": "stream",
          "name": "stdout",
          "text": [
            "Determinant Of A is :\n",
            " -8.000000000000002\n"
          ]
        }
      ]
    },
    {
      "cell_type": "code",
      "source": [
        "Inverse_A=np.linalg.inv(A)\n",
        "print(\"Inverse of A is:\\n\",Inverse_A)"
      ],
      "metadata": {
        "colab": {
          "base_uri": "https://localhost:8080/"
        },
        "id": "ykUYeOd6sv1r",
        "outputId": "c05d05cf-dfad-4f53-d59e-ed7abb59da45"
      },
      "execution_count": null,
      "outputs": [
        {
          "output_type": "stream",
          "name": "stdout",
          "text": [
            "Inverse of A is:\n",
            " [[-0.625  0.75 ]\n",
            " [ 0.375 -0.25 ]]\n"
          ]
        }
      ]
    },
    {
      "cell_type": "code",
      "source": [
        "Eigenvalues,Eigenvectors=np.linalg.eig(A)\n",
        "print(\"Eigenvalues of A is:\\n\",Eigenvalues)\n",
        "print(\"Eigenvectors of A is:\\n\",Eigenvectors)"
      ],
      "metadata": {
        "colab": {
          "base_uri": "https://localhost:8080/"
        },
        "id": "Kkt3hrHItR99",
        "outputId": "3167448a-0a02-47f7-dbbd-d52901d1a0b4"
      },
      "execution_count": null,
      "outputs": [
        {
          "output_type": "stream",
          "name": "stdout",
          "text": [
            "Eigenvalues of A is:\n",
            " [-1.  8.]\n",
            "Eigenvectors of A is:\n",
            " [[-0.89442719 -0.70710678]\n",
            " [ 0.4472136  -0.70710678]]\n"
          ]
        }
      ]
    },
    {
      "cell_type": "code",
      "source": [
        "U,E,Vt=np.linalg.svd(A)\n",
        "print(\"Left orthogonal matrix is:\\n\",U)"
      ],
      "metadata": {
        "colab": {
          "base_uri": "https://localhost:8080/"
        },
        "id": "vqgzIjrBujOa",
        "outputId": "ef2b0637-6633-48a1-df6a-f811145993f9"
      },
      "execution_count": null,
      "outputs": [
        {
          "output_type": "stream",
          "name": "stdout",
          "text": [
            "Left orthogonal matrix is:\n",
            " [[-0.56357065 -0.65544846 -0.50276778]\n",
            " [-0.4887576  -0.22608959  0.84261468]\n",
            " [-0.66596106  0.72060448 -0.19293796]]\n"
          ]
        }
      ]
    },
    {
      "cell_type": "code",
      "source": [
        "print(\"Singular value of non-zeros of A is:\\n\",E)"
      ],
      "metadata": {
        "colab": {
          "base_uri": "https://localhost:8080/"
        },
        "id": "8hY10RuSu-lW",
        "outputId": "5fffdc1b-75bf-4b30-a66d-bd9549bad210"
      },
      "execution_count": null,
      "outputs": [
        {
          "output_type": "stream",
          "name": "stdout",
          "text": [
            "Singular value of non-zeros of A is:\n",
            " [14.27104494  5.13169496  0.05461895]\n"
          ]
        }
      ]
    },
    {
      "cell_type": "code",
      "source": [
        "print(\"Right orthogonal matrix of A is:\\n\",Vt)"
      ],
      "metadata": {
        "colab": {
          "base_uri": "https://localhost:8080/"
        },
        "id": "NUDRhnFNvQ_q",
        "outputId": "cdf67fc2-b75b-4333-d63e-35e8730990d4"
      },
      "execution_count": null,
      "outputs": [
        {
          "output_type": "stream",
          "name": "stdout",
          "text": [
            "Right orthogonal matrix of A is:\n",
            " [[-0.55504713 -0.68817513 -0.46726616]\n",
            " [ 0.73575498 -0.14410674 -0.66173851]\n",
            " [-0.38805578  0.71108947 -0.58631432]]\n"
          ]
        }
      ]
    },
    {
      "cell_type": "code",
      "source": [
        "import numpy as np\n",
        "A=np.array([[2,6,6],[3,5,4],[8,6,2]])\n",
        "A"
      ],
      "metadata": {
        "colab": {
          "base_uri": "https://localhost:8080/"
        },
        "id": "BvWiiv52t3j2",
        "outputId": "0dd01d9f-1788-48e0-ff4d-1057ae5e99d3"
      },
      "execution_count": null,
      "outputs": [
        {
          "output_type": "execute_result",
          "data": {
            "text/plain": [
              "array([[2, 6, 6],\n",
              "       [3, 5, 4],\n",
              "       [8, 6, 2]])"
            ]
          },
          "metadata": {},
          "execution_count": 26
        }
      ]
    },
    {
      "cell_type": "code",
      "source": [
        "Determinant_A= np.linalg.det(A)\n",
        "print(\"Determinant Of A is :\\n\",Determinant_A)"
      ],
      "metadata": {
        "colab": {
          "base_uri": "https://localhost:8080/"
        },
        "id": "GV1mpJN-uEJV",
        "outputId": "26948758-4518-47dc-cb3c-48ee4e7e9263"
      },
      "execution_count": null,
      "outputs": [
        {
          "output_type": "stream",
          "name": "stdout",
          "text": [
            "Determinant Of A is :\n",
            " -3.999999999999985\n"
          ]
        }
      ]
    },
    {
      "cell_type": "code",
      "source": [
        "Inverse_A=np.linalg.inv(A)\n",
        "print(\"Inverse of A is:\\n\",Inverse_A)"
      ],
      "metadata": {
        "colab": {
          "base_uri": "https://localhost:8080/"
        },
        "id": "KHCsEo5luSlR",
        "outputId": "40d002cf-8f2c-4b86-93a4-8b2ae9c1d054"
      },
      "execution_count": null,
      "outputs": [
        {
          "output_type": "stream",
          "name": "stdout",
          "text": [
            "Inverse of A is:\n",
            " [[ 3.5 -6.   1.5]\n",
            " [-6.5 11.  -2.5]\n",
            " [ 5.5 -9.   2. ]]\n"
          ]
        }
      ]
    },
    {
      "cell_type": "code",
      "source": [
        "Eigenvalues,Eigenvectors=np.linalg.eig(A)\n",
        "print(\"Eigenvalues of A is:\\n\",Eigenvalues)\n",
        "print(\"Eigenvectors of A is:\\n\",Eigenvectors)"
      ],
      "metadata": {
        "colab": {
          "base_uri": "https://localhost:8080/"
        },
        "id": "9ud9W6wzuVWl",
        "outputId": "c21a670f-87b0-463c-8fbd-e135b87d817b"
      },
      "execution_count": null,
      "outputs": [
        {
          "output_type": "stream",
          "name": "stdout",
          "text": [
            "Eigenvalues of A is:\n",
            " [13.77143698 -4.83155352  0.06011653]\n",
            "Eigenvectors of A is:\n",
            " [[-0.58131988 -0.57302539  0.39146886]\n",
            " [-0.49375335 -0.15273682 -0.71087246]\n",
            " [-0.6467417   0.80517909  0.58430513]]\n"
          ]
        }
      ]
    },
    {
      "cell_type": "code",
      "source": [
        "Sigma=np.zeros([3,3])\n",
        "np.fill_diagonal(Sigma,E)\n",
        "Reconstruction= U @ Sigma @ Vt\n",
        "print(Reconstruction)"
      ],
      "metadata": {
        "colab": {
          "base_uri": "https://localhost:8080/"
        },
        "id": "OWrqZD9Wv-rp",
        "outputId": "869bb374-65b2-440f-827e-6d13cb2225c1"
      },
      "execution_count": null,
      "outputs": [
        {
          "output_type": "stream",
          "name": "stdout",
          "text": [
            "[[2. 6. 6.]\n",
            " [3. 5. 4.]\n",
            " [8. 6. 2.]]\n"
          ]
        }
      ]
    },
    {
      "cell_type": "markdown",
      "source": [
        "Assignment"
      ],
      "metadata": {
        "id": "Zf8jbdj8yIHV"
      }
    },
    {
      "cell_type": "code",
      "source": [
        "import numpy as np\n",
        "from numpy.linalg import eig, svd, det\n",
        "import matplotlib.pyplot as plt\n",
        "\n",
        "# --- 1. Eigenvalues and Eigenvectors ---\n",
        "# Define a 4x4 matrix\n",
        "A = np.array([\n",
        "    [4, 2, 2, 1],\n",
        "    [0, 3, -1, 1],\n",
        "    [0, 0, 2, 2],\n",
        "    [0, 0, 0, 1]\n",
        "])\n",
        "\n",
        "# Compute eigenvalues and eigenvectors\n",
        "eigenvalues, eigenvectors = eig(A)\n",
        "\n",
        "print(\"Eigenvalues of A:\")\n",
        "print(eigenvalues)\n",
        "print(\"\\nEigenvectors of A (each column corresponds to one eigenvector):\")\n",
        "print(eigenvectors)\n",
        "\n",
        "# --- 2. SVD for Dimensionality Reduction ---\n",
        "# Create a synthetic dataset (e.g. 100 samples, 5 features)\n",
        "np.random.seed(42)\n",
        "X = np.random.rand(100, 5)\n",
        "\n",
        "# Apply SVD\n",
        "U, S, VT = svd(X, full_matrices=False)\n",
        "\n",
        "# Keep top k=2 components\n",
        "k = 2\n",
        "X_reduced = U[:, :k] @ np.diag(S[:k])\n",
        "\n",
        "print(\"\\nReduced data shape using SVD (k=2):\", X_reduced.shape)\n",
        "\n",
        "# Optional: plot reduced 2D data\n",
        "plt.scatter(X_reduced[:, 0], X_reduced[:, 1])\n",
        "plt.title(\"2D Projection of Data via SVD\")\n",
        "plt.xlabel(\"Component 1\")\n",
        "plt.ylabel(\"Component 2\")\n",
        "plt.grid(True)\n",
        "plt.show()\n",
        "\n",
        "# --- 3. Verify Characteristic Polynomial det(A - λI) = 0 ---\n",
        "# Pick one eigenvalue and plug into det(A - λI)\n",
        "lambda_check = eigenvalues[0]\n",
        "identity = np.eye(A.shape[0])\n",
        "char_matrix = A - lambda_check * identity\n",
        "det_result = det(char_matrix)\n",
        "\n",
        "print(f\"\\nVerification of det(A - λI) = 0 for λ = {lambda_check:.4f}\")\n",
        "print(f\"det(A - λI) = {det_result:.4e} (should be close to 0)\")"
      ],
      "metadata": {
        "id": "QOk_tSwUyGx0"
      },
      "execution_count": null,
      "outputs": []
    }
  ]
}