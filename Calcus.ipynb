{
  "nbformat": 4,
  "nbformat_minor": 0,
  "metadata": {
    "colab": {
      "provenance": [],
      "authorship_tag": "ABX9TyMA1x6EaK1g7NZQspAAdfeN",
      "include_colab_link": true
    },
    "kernelspec": {
      "name": "python3",
      "display_name": "Python 3"
    },
    "language_info": {
      "name": "python"
    }
  },
  "cells": [
    {
      "cell_type": "markdown",
      "metadata": {
        "id": "view-in-github",
        "colab_type": "text"
      },
      "source": [
        "<a href=\"https://colab.research.google.com/github/mohitsbh/Ai_Learn_codes/blob/main/Calcus.ipynb\" target=\"_parent\"><img src=\"https://colab.research.google.com/assets/colab-badge.svg\" alt=\"Open In Colab\"/></a>"
      ]
    },
    {
      "cell_type": "code",
      "execution_count": 21,
      "metadata": {
        "colab": {
          "base_uri": "https://localhost:8080/"
        },
        "id": "7KhPJDqvCNAK",
        "outputId": "2ee7b4c1-b4ad-4adf-f1f5-39d56ab89166"
      },
      "outputs": [
        {
          "output_type": "stream",
          "name": "stdout",
          "text": [
            "Function of f is:\n",
            " 5*x**6 + 10*y**5\n",
            "derivation of f with respect to x is:\n",
            " 30*x**5\n",
            "derivation of f with respect to x is:\n",
            " 50*y**4\n"
          ]
        }
      ],
      "source": [
        "import sympy as sp\n",
        "x=sp.Symbol('x')\n",
        "y=sp.Symbol('y')\n",
        "f=5*x**6+10*y**5\n",
        "diff_x=sp.diff(f,x)\n",
        "diff_y=sp.diff(f,y)\n",
        "print(\"Function of f is:\\n\",f)\n",
        "print(\"derivation of f with respect to x is:\\n\",diff_x)\n",
        "print(\"derivation of f with respect to x is:\\n\",diff_y)"
      ]
    },
    {
      "cell_type": "code",
      "source": [
        "f"
      ],
      "metadata": {
        "colab": {
          "base_uri": "https://localhost:8080/",
          "height": 39
        },
        "id": "MmFqYMfwEeyJ",
        "outputId": "f7618c39-ba62-4433-962e-5f814da104b4"
      },
      "execution_count": 22,
      "outputs": [
        {
          "output_type": "execute_result",
          "data": {
            "text/plain": [
              "5*x**6 + 10*y**5"
            ],
            "text/latex": "$\\displaystyle 5 x^{6} + 10 y^{5}$"
          },
          "metadata": {},
          "execution_count": 22
        }
      ]
    },
    {
      "cell_type": "code",
      "source": [
        "diff_x"
      ],
      "metadata": {
        "colab": {
          "base_uri": "https://localhost:8080/",
          "height": 39
        },
        "id": "KSQ5QZhvEg2U",
        "outputId": "45d0f434-04eb-4fcf-bca7-998cac86aa4a"
      },
      "execution_count": 23,
      "outputs": [
        {
          "output_type": "execute_result",
          "data": {
            "text/plain": [
              "30*x**5"
            ],
            "text/latex": "$\\displaystyle 30 x^{5}$"
          },
          "metadata": {},
          "execution_count": 23
        }
      ]
    },
    {
      "cell_type": "code",
      "source": [
        "diff_y"
      ],
      "metadata": {
        "colab": {
          "base_uri": "https://localhost:8080/",
          "height": 39
        },
        "id": "CLXL6d4oEkRj",
        "outputId": "b182bdf6-f977-4e88-da32-ebaa3ea020ec"
      },
      "execution_count": 24,
      "outputs": [
        {
          "output_type": "execute_result",
          "data": {
            "text/plain": [
              "50*y**4"
            ],
            "text/latex": "$\\displaystyle 50 y^{4}$"
          },
          "metadata": {},
          "execution_count": 24
        }
      ]
    },
    {
      "cell_type": "code",
      "source": [
        "x,y=sp.symbols('x y')\n",
        "f=8*x**5+6*y**8+2*x+3*y-6*x*y\n",
        "#print(\"Function of f is:\\n\",f)\n",
        "f"
      ],
      "metadata": {
        "colab": {
          "base_uri": "https://localhost:8080/",
          "height": 39
        },
        "id": "rbSZKZlZE38n",
        "outputId": "5c086343-8a65-4bab-b82f-b22f2cdaabe5"
      },
      "execution_count": 34,
      "outputs": [
        {
          "output_type": "execute_result",
          "data": {
            "text/plain": [
              "8*x**5 - 6*x*y + 2*x + 6*y**8 + 3*y"
            ],
            "text/latex": "$\\displaystyle 8 x^{5} - 6 x y + 2 x + 6 y^{8} + 3 y$"
          },
          "metadata": {},
          "execution_count": 34
        }
      ]
    },
    {
      "cell_type": "code",
      "source": [
        "Differentiation_x=sp.diff(f,x)\n",
        "Differentiation_x"
      ],
      "metadata": {
        "colab": {
          "base_uri": "https://localhost:8080/",
          "height": 39
        },
        "id": "QB_om_8iGCzN",
        "outputId": "5be85d58-4db9-4965-c061-7267a91137d7"
      },
      "execution_count": 31,
      "outputs": [
        {
          "output_type": "execute_result",
          "data": {
            "text/plain": [
              "40*x**4 - 6*y + 2"
            ],
            "text/latex": "$\\displaystyle 40 x^{4} - 6 y + 2$"
          },
          "metadata": {},
          "execution_count": 31
        }
      ]
    },
    {
      "cell_type": "code",
      "source": [
        "Differentiation_y=sp.diff(f,y)\n",
        "Differentiation_y"
      ],
      "metadata": {
        "colab": {
          "base_uri": "https://localhost:8080/",
          "height": 39
        },
        "id": "d3-USYu7Fa28",
        "outputId": "a84a9a87-7739-4197-fd48-d302f8213639"
      },
      "execution_count": 29,
      "outputs": [
        {
          "output_type": "execute_result",
          "data": {
            "text/plain": [
              "-6*x + 48*y**7 + 3"
            ],
            "text/latex": "$\\displaystyle - 6 x + 48 y^{7} + 3$"
          },
          "metadata": {},
          "execution_count": 29
        }
      ]
    }
  ]
}