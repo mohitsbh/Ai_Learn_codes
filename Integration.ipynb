{
  "nbformat": 4,
  "nbformat_minor": 0,
  "metadata": {
    "colab": {
      "provenance": [],
      "authorship_tag": "ABX9TyM+5aFVgftCL6f4ymEAh46O",
      "include_colab_link": true
    },
    "kernelspec": {
      "name": "python3",
      "display_name": "Python 3"
    },
    "language_info": {
      "name": "python"
    }
  },
  "cells": [
    {
      "cell_type": "markdown",
      "metadata": {
        "id": "view-in-github",
        "colab_type": "text"
      },
      "source": [
        "<a href=\"https://colab.research.google.com/github/mohitsbh/Ai_Learn_codes/blob/main/Integration.ipynb\" target=\"_parent\"><img src=\"https://colab.research.google.com/assets/colab-badge.svg\" alt=\"Open In Colab\"/></a>"
      ]
    },
    {
      "cell_type": "code",
      "execution_count": 6,
      "metadata": {
        "colab": {
          "base_uri": "https://localhost:8080/",
          "height": 37
        },
        "id": "WEFYk0p0JmZ_",
        "outputId": "387e3081-c9dd-4690-f200-8df6d6524817"
      },
      "outputs": [
        {
          "output_type": "execute_result",
          "data": {
            "text/plain": [
              "4"
            ],
            "text/latex": "$\\displaystyle 4$"
          },
          "metadata": {},
          "execution_count": 6
        }
      ],
      "source": [
        "import sympy as sp\n",
        "\n",
        "x=sp.Symbol(\"x\")\n",
        "f=x**3\n",
        "Integrate=sp.integrate(f,(x,0,2))\n",
        "Integrate"
      ]
    },
    {
      "cell_type": "code",
      "source": [
        "import sympy as sp\n",
        "\n",
        "x=sp.Symbol(\"x\")\n",
        "f=x**2\n",
        "Integrate=sp.integrate(f,(x,0,2))\n",
        "Integrate"
      ],
      "metadata": {
        "colab": {
          "base_uri": "https://localhost:8080/",
          "height": 51
        },
        "id": "ulHcP_OyYQjl",
        "outputId": "5fd31a5e-d7a8-4ea7-9274-b0157a0f1c68"
      },
      "execution_count": 5,
      "outputs": [
        {
          "output_type": "execute_result",
          "data": {
            "text/plain": [
              "8/3"
            ],
            "text/latex": "$\\displaystyle \\frac{8}{3}$"
          },
          "metadata": {},
          "execution_count": 5
        }
      ]
    }
  ]
}