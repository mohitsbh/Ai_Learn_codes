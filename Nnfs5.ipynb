{
  "nbformat": 4,
  "nbformat_minor": 0,
  "metadata": {
    "colab": {
      "provenance": [],
      "authorship_tag": "ABX9TyO9HJumJEajkjWVb6OJsZ6P",
      "include_colab_link": true
    },
    "kernelspec": {
      "name": "python3",
      "display_name": "Python 3"
    },
    "language_info": {
      "name": "python"
    }
  },
  "cells": [
    {
      "cell_type": "markdown",
      "metadata": {
        "id": "view-in-github",
        "colab_type": "text"
      },
      "source": [
        "<a href=\"https://colab.research.google.com/github/mohitsbh/Ai_Learn_codes/blob/main/Nnfs5.ipynb\" target=\"_parent\"><img src=\"https://colab.research.google.com/assets/colab-badge.svg\" alt=\"Open In Colab\"/></a>"
      ]
    },
    {
      "cell_type": "code",
      "execution_count": 1,
      "metadata": {
        "colab": {
          "base_uri": "https://localhost:8080/"
        },
        "id": "zCYK7qxzfu0b",
        "outputId": "d63ec78c-dfc7-46c8-9a7d-e8b08ff58f49"
      },
      "outputs": [
        {
          "output_type": "stream",
          "name": "stdout",
          "text": [
            "=== Recall from X to Y ===\n",
            "Input X1: [1, -1, 1] → Recalled Y: [1. 1.]\n",
            "Input X2: [-1, -1, 1] → Recalled Y: [-1. -1.]\n",
            "\n",
            "=== Recall from Y to X ===\n",
            "Input Y1: [1, 1] → Recalled X: [1. 0. 0.]\n",
            "Input Y2: [-1, -1] → Recalled X: [-1.  0.  0.]\n",
            "\n",
            "Noisy Input: [1, 1, 1] → Recalled Y: [1. 1.]\n"
          ]
        }
      ],
      "source": [
        "import numpy as np\n",
        "\n",
        "class BAM:\n",
        "    def __init__(self, input_size, output_size):\n",
        "        self.W = np.zeros((input_size, output_size))  # Weight matrix initialization\n",
        "\n",
        "    # Train the BAM network using Hebbian learning rule\n",
        "    def train(self, X, Y):\n",
        "        for x, y in zip(X, Y):\n",
        "            x = np.array(x).reshape(-1, 1)\n",
        "            y = np.array(y).reshape(1, -1)\n",
        "            self.W += np.dot(x, y)  # Hebbian weight update rule\n",
        "\n",
        "    # Recall Y given X\n",
        "    def recall_X_to_Y(self, x):\n",
        "        y_out = np.dot(np.array(x), self.W)\n",
        "        return np.sign(y_out)\n",
        "\n",
        "    # Recall X given Y\n",
        "    def recall_Y_to_X(self, y):\n",
        "        x_out = np.dot(self.W, np.array(y))\n",
        "        return np.sign(x_out)\n",
        "\n",
        "# --------------------------\n",
        "# Example: BAM Demonstration\n",
        "# --------------------------\n",
        "\n",
        "# Define input and output patterns\n",
        "X_patterns = [\n",
        "    [1, -1, 1],   # Pattern 1 input\n",
        "    [-1, -1, 1]   # Pattern 2 input\n",
        "]\n",
        "\n",
        "Y_patterns = [\n",
        "    [1, 1],       # Pattern 1 output\n",
        "    [-1, -1]      # Pattern 2 output\n",
        "]\n",
        "\n",
        "# Initialize and train BAM\n",
        "bam = BAM(input_size=3, output_size=2)\n",
        "bam.train(X_patterns, Y_patterns)\n",
        "\n",
        "# Test recall of stored patterns\n",
        "print(\"=== Recall from X to Y ===\")\n",
        "for i, x in enumerate(X_patterns):\n",
        "    recalled_Y = bam.recall_X_to_Y(x)\n",
        "    print(f\"Input X{i+1}: {x} → Recalled Y: {recalled_Y}\")\n",
        "\n",
        "print(\"\\n=== Recall from Y to X ===\")\n",
        "for i, y in enumerate(Y_patterns):\n",
        "    recalled_X = bam.recall_Y_to_X(y)\n",
        "    print(f\"Input Y{i+1}: {y} → Recalled X: {recalled_X}\")\n",
        "\n",
        "# Test with a noisy input\n",
        "noisy_input = [1, 1, 1]  # Slightly changed version of first input\n",
        "recalled_Y_noisy = bam.recall_X_to_Y(noisy_input)\n",
        "print(\"\\nNoisy Input:\", noisy_input, \"→ Recalled Y:\", recalled_Y_noisy)"
      ]
    }
  ]
}