{
  "nbformat": 4,
  "nbformat_minor": 0,
  "metadata": {
    "colab": {
      "provenance": [],
      "authorship_tag": "ABX9TyOesNpXpxojC/7/IE/H/Bnz",
      "include_colab_link": true
    },
    "kernelspec": {
      "name": "python3",
      "display_name": "Python 3"
    },
    "language_info": {
      "name": "python"
    }
  },
  "cells": [
    {
      "cell_type": "markdown",
      "metadata": {
        "id": "view-in-github",
        "colab_type": "text"
      },
      "source": [
        "<a href=\"https://colab.research.google.com/github/mohitsbh/Ai_Learn_codes/blob/main/Nnfs7.ipynb\" target=\"_parent\"><img src=\"https://colab.research.google.com/assets/colab-badge.svg\" alt=\"Open In Colab\"/></a>"
      ]
    },
    {
      "cell_type": "code",
      "metadata": {
        "colab": {
          "base_uri": "https://localhost:8080/"
        },
        "id": "2b189827",
        "outputId": "bf7a6e3c-2e90-49f7-f92d-f27a7b388fca"
      },
      "source": [
        "import numpy as np\n",
        "\n",
        "# ------------------- Input Dataset -------------------\n",
        "X = np.array([[0, 0], [0, 1], [1, 0], [1, 1]])   # Inputs\n",
        "Y = np.array([[0], [0], [0], [1]])              # Target output for AND gate\n",
        "\n",
        "# ------------------- Parameters -------------------\n",
        "epochs = 10    # Number of iterations\n",
        "alpha = 0.1    # Learning rate\n",
        "\n",
        "nSamples, nFeatures = X.shape\n",
        "\n",
        "# Add bias term (column of 1s)\n",
        "Xb = np.hstack((np.ones((nSamples, 1)), X))  # Bias + input matrix\n",
        "nSamples, nInputs = Xb.shape\n",
        "\n",
        "# ------------------- Initialize Weights -------------------\n",
        "weights_hebb = np.zeros((1, nInputs))   # Hebbian weights start from zero\n",
        "weights_perceptron = np.random.rand(1, nInputs)  # Random initialization for Perceptron\n",
        "\n",
        "# ------------------- Hebbian Learning Rule -------------------\n",
        "for i in range(nSamples):\n",
        "    weights_hebb = weights_hebb + Y[i] * Xb[i, :]\n",
        "\n",
        "# ------------------- Perceptron Learning Rule -------------------\n",
        "for epoch in range(epochs):\n",
        "    for i in range(nSamples):\n",
        "        net = weights_perceptron @ Xb[i, :].T   # Weighted sum\n",
        "        out = (net >= 0).astype(int)            # Step activation (binary output)\n",
        "        error = Y[i] - out                      # Error calculation\n",
        "        weights_perceptron = weights_perceptron + alpha * error * Xb[i, :]\n",
        "\n",
        "# ------------------- Testing After Training -------------------\n",
        "outputs_hebb = (Xb @ weights_hebb.T) >= 0\n",
        "outputs_perceptron = (Xb @ weights_perceptron.T) >= 0\n",
        "\n",
        "# ------------------- Display Results -------------------\n",
        "print(\"Final Hebbian Weights:\")\n",
        "print(weights_hebb)\n",
        "\n",
        "print(\"Final Perceptron Weights:\")\n",
        "print(weights_perceptron)\n",
        "\n",
        "print(\"Hebbian Output:\")\n",
        "print(outputs_hebb.astype(int))\n",
        "\n",
        "print(\"Perceptron Output:\")\n",
        "print(outputs_perceptron.astype(int))"
      ],
      "execution_count": 3,
      "outputs": [
        {
          "output_type": "stream",
          "name": "stdout",
          "text": [
            "Final Hebbian Weights:\n",
            "[[1. 1. 1.]]\n",
            "Final Perceptron Weights:\n",
            "[[-0.24187243  0.16464262  0.11447171]]\n",
            "Hebbian Output:\n",
            "[[1]\n",
            " [1]\n",
            " [1]\n",
            " [1]]\n",
            "Perceptron Output:\n",
            "[[0]\n",
            " [0]\n",
            " [0]\n",
            " [1]]\n"
          ]
        }
      ]
    }
  ]
}